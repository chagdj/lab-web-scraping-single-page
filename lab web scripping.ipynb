{
 "cells": [
  {
   "cell_type": "markdown",
   "id": "94da4d0f-bcc6-4da1-a9eb-181992b15180",
   "metadata": {},
   "source": [
    "Web Scraping : Extraction de données directement à partir de pages web, potentiellement fragile et éthique à vérifier.\n",
    "API : Interface structurée pour accéder à des données et fonctionnalités, généralement plus fiable et conforme."
   ]
  },
  {
   "cell_type": "code",
   "execution_count": 1,
   "id": "ce8eaf3f-103e-4d05-a9fa-894342c01dfd",
   "metadata": {},
   "outputs": [
    {
     "name": "stdout",
     "output_type": "stream",
     "text": [
      "Requirement already satisfied: spotipy in /opt/anaconda3/lib/python3.12/site-packages (2.24.0)\n",
      "Requirement already satisfied: redis>=3.5.3 in /opt/anaconda3/lib/python3.12/site-packages (from spotipy) (5.0.8)\n",
      "Requirement already satisfied: requests>=2.25.0 in /opt/anaconda3/lib/python3.12/site-packages (from spotipy) (2.32.2)\n",
      "Requirement already satisfied: urllib3>=1.26.0 in /opt/anaconda3/lib/python3.12/site-packages (from spotipy) (2.2.2)\n",
      "Requirement already satisfied: charset-normalizer<4,>=2 in /opt/anaconda3/lib/python3.12/site-packages (from requests>=2.25.0->spotipy) (2.0.4)\n",
      "Requirement already satisfied: idna<4,>=2.5 in /opt/anaconda3/lib/python3.12/site-packages (from requests>=2.25.0->spotipy) (3.7)\n",
      "Requirement already satisfied: certifi>=2017.4.17 in /opt/anaconda3/lib/python3.12/site-packages (from requests>=2.25.0->spotipy) (2024.8.30)\n",
      "Note: you may need to restart the kernel to use updated packages.\n"
     ]
    }
   ],
   "source": [
    "pip install spotipy --upgrade\n"
   ]
  },
  {
   "cell_type": "markdown",
   "id": "3f7ed97d-e1e3-4e2d-a828-49afb34edd54",
   "metadata": {},
   "source": [
    "1. Mixing Authentication Types\n",
    "You're importing SpotifyClientCredentials, but you're using SpotifyOAuth for authentication. These are two different authentication methods, and it's crucial to use the right one based on your use case.\n",
    "\n",
    "SpotifyOAuth: Used when you're authenticating as a specific user and need permissions (scopes) like playlist-read-private.\n",
    "SpotifyClientCredentials: Used when you only need access to public data without user authorization.\n",
    "Since you're using SpotifyOAuth, you need to provide user authentication via OAuth, not SpotifyClientCredentials."
   ]
  },
  {
   "cell_type": "code",
   "execution_count": 5,
   "id": "64c3e4a6-0ced-43db-9ee5-cf3152a9a1f4",
   "metadata": {},
   "outputs": [
    {
     "ename": "SyntaxError",
     "evalue": "invalid syntax (3249925825.py, line 1)",
     "output_type": "error",
     "traceback": [
      "\u001b[0;36m  Cell \u001b[0;32mIn[5], line 1\u001b[0;36m\u001b[0m\n\u001b[0;31m    [\"items\"]:\u001b[0m\n\u001b[0m             ^\u001b[0m\n\u001b[0;31mSyntaxError\u001b[0m\u001b[0;31m:\u001b[0m invalid syntax\n"
     ]
    }
   ],
   "source": [
    "[\"items\"]:\n",
    "        print(\n",
    "        track_name = track[\"track\"][\"name\"]\n",
    "        print(f\"Track: {track_name}\")"
   ]
  },
  {
   "cell_type": "code",
   "execution_count": null,
   "id": "f43b0bd7-1da4-4b53-9a5c-aac863b2c894",
   "metadata": {},
   "outputs": [],
   "source": [
    "from sklearn.clusters import KMeans\n"
   ]
  }
 ],
 "metadata": {
  "kernelspec": {
   "display_name": "Python 3 (ipykernel)",
   "language": "python",
   "name": "python3"
  },
  "language_info": {
   "codemirror_mode": {
    "name": "ipython",
    "version": 3
   },
   "file_extension": ".py",
   "mimetype": "text/x-python",
   "name": "python",
   "nbconvert_exporter": "python",
   "pygments_lexer": "ipython3",
   "version": "3.12.2"
  }
 },
 "nbformat": 4,
 "nbformat_minor": 5
}
